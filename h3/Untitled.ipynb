{
 "cells": [
  {
   "cell_type": "code",
   "execution_count": 2,
   "id": "bd6c3b65-ad9e-4bc5-ac0e-e554cdc9b2fd",
   "metadata": {},
   "outputs": [
    {
     "data": {
      "application/vnd.jupyter.widget-view+json": {
       "model_id": "c7a1c11345b3472ca7db8a31d2863230",
       "version_major": 2,
       "version_minor": 0
      },
      "text/plain": [
       "modules.json:   0%|          | 0.00/349 [00:00<?, ?B/s]"
      ]
     },
     "metadata": {},
     "output_type": "display_data"
    },
    {
     "data": {
      "application/vnd.jupyter.widget-view+json": {
       "model_id": "69f65e33cb3d4b49af44d425b4e4acce",
       "version_major": 2,
       "version_minor": 0
      },
      "text/plain": [
       "config_sentence_transformers.json:   0%|          | 0.00/116 [00:00<?, ?B/s]"
      ]
     },
     "metadata": {},
     "output_type": "display_data"
    },
    {
     "data": {
      "application/vnd.jupyter.widget-view+json": {
       "model_id": "8313f217c4f34306bef1c9a6619e0165",
       "version_major": 2,
       "version_minor": 0
      },
      "text/plain": [
       "README.md:   0%|          | 0.00/9.52k [00:00<?, ?B/s]"
      ]
     },
     "metadata": {},
     "output_type": "display_data"
    },
    {
     "data": {
      "application/vnd.jupyter.widget-view+json": {
       "model_id": "a5bbdd1920d2449cb43d74598c140f11",
       "version_major": 2,
       "version_minor": 0
      },
      "text/plain": [
       "sentence_bert_config.json:   0%|          | 0.00/53.0 [00:00<?, ?B/s]"
      ]
     },
     "metadata": {},
     "output_type": "display_data"
    },
    {
     "data": {
      "application/vnd.jupyter.widget-view+json": {
       "model_id": "553ccba5c61149d8a552201c4ce15deb",
       "version_major": 2,
       "version_minor": 0
      },
      "text/plain": [
       "config.json:   0%|          | 0.00/523 [00:00<?, ?B/s]"
      ]
     },
     "metadata": {},
     "output_type": "display_data"
    },
    {
     "data": {
      "application/vnd.jupyter.widget-view+json": {
       "model_id": "87e5b154fe0a4023b0120d08d6898f9f",
       "version_major": 2,
       "version_minor": 0
      },
      "text/plain": [
       "model.safetensors:   0%|          | 0.00/265M [00:00<?, ?B/s]"
      ]
     },
     "metadata": {},
     "output_type": "display_data"
    },
    {
     "data": {
      "application/vnd.jupyter.widget-view+json": {
       "model_id": "03d5d7be0ff9494d980863ae5e9f4eec",
       "version_major": 2,
       "version_minor": 0
      },
      "text/plain": [
       "tokenizer_config.json:   0%|          | 0.00/333 [00:00<?, ?B/s]"
      ]
     },
     "metadata": {},
     "output_type": "display_data"
    },
    {
     "data": {
      "application/vnd.jupyter.widget-view+json": {
       "model_id": "496804df25694d868b29a5aac4cc5f50",
       "version_major": 2,
       "version_minor": 0
      },
      "text/plain": [
       "vocab.txt:   0%|          | 0.00/232k [00:00<?, ?B/s]"
      ]
     },
     "metadata": {},
     "output_type": "display_data"
    },
    {
     "data": {
      "application/vnd.jupyter.widget-view+json": {
       "model_id": "5706f1b95a54463aa147a9f6b235fa64",
       "version_major": 2,
       "version_minor": 0
      },
      "text/plain": [
       "tokenizer.json:   0%|          | 0.00/466k [00:00<?, ?B/s]"
      ]
     },
     "metadata": {},
     "output_type": "display_data"
    },
    {
     "data": {
      "application/vnd.jupyter.widget-view+json": {
       "model_id": "933d4e1b9fdf43cbbcd1bcd4351e5bdb",
       "version_major": 2,
       "version_minor": 0
      },
      "text/plain": [
       "special_tokens_map.json:   0%|          | 0.00/112 [00:00<?, ?B/s]"
      ]
     },
     "metadata": {},
     "output_type": "display_data"
    },
    {
     "data": {
      "application/vnd.jupyter.widget-view+json": {
       "model_id": "404de40cf36b4d6587fa213938ae447b",
       "version_major": 2,
       "version_minor": 0
      },
      "text/plain": [
       "1_Pooling/config.json:   0%|          | 0.00/190 [00:00<?, ?B/s]"
      ]
     },
     "metadata": {},
     "output_type": "display_data"
    }
   ],
   "source": [
    "# This is a new library compared to the previous modules. \n",
    "# Please perform \"pip install sentence_transformers==2.7.0\"\n",
    "from sentence_transformers import SentenceTransformer\n",
    "\n",
    "# if you get an error do the following:\n",
    "# 1. Uninstall numpy \n",
    "# 2. Uninstall torch\n",
    "# 3. pip install numpy==1.26.4\n",
    "# 4. pip install torch\n",
    "# run the above cell, it should work\n",
    "model = SentenceTransformer(\"multi-qa-distilbert-cos-v1\")"
   ]
  },
  {
   "cell_type": "code",
   "execution_count": 3,
   "id": "17898ab0-1afc-4bf6-a011-27b404cf8e1a",
   "metadata": {},
   "outputs": [],
   "source": [
    "user_question = \"I just discovered the course. Can I still join it?\""
   ]
  },
  {
   "cell_type": "code",
   "execution_count": 4,
   "id": "021d6427-2f27-4faf-86eb-64287ad03d72",
   "metadata": {},
   "outputs": [],
   "source": [
    "em = model.encode(user_question)"
   ]
  },
  {
   "cell_type": "code",
   "execution_count": 6,
   "id": "2eeea602-ae85-44d2-9c75-21f96ef30d17",
   "metadata": {},
   "outputs": [
    {
     "data": {
      "text/plain": [
       "0.078222655"
      ]
     },
     "execution_count": 6,
     "metadata": {},
     "output_type": "execute_result"
    }
   ],
   "source": [
    "em[0]\n"
   ]
  },
  {
   "cell_type": "code",
   "execution_count": 7,
   "id": "a72d5c6d-445d-4aa4-a041-2625fc5ba332",
   "metadata": {},
   "outputs": [],
   "source": [
    "import requests \n",
    "\n",
    "base_url = 'https://github.com/DataTalksClub/llm-zoomcamp/blob/main'\n",
    "relative_url = '03-vector-search/eval/documents-with-ids.json'\n",
    "docs_url = f'{base_url}/{relative_url}?raw=1'\n",
    "docs_response = requests.get(docs_url)\n",
    "documents = docs_response.json()"
   ]
  },
  {
   "cell_type": "code",
   "execution_count": 12,
   "id": "e3c405b9-e809-49f1-bf4d-026fe2fb8a10",
   "metadata": {},
   "outputs": [],
   "source": [
    "course = 'machine-learning-zoomcamp'\n",
    "filtered_data = [item for item in documents if item['course'] == course]"
   ]
  },
  {
   "cell_type": "code",
   "execution_count": 13,
   "id": "ad7dadbe-3fd4-485b-b5ff-afa93448017f",
   "metadata": {},
   "outputs": [
    {
     "data": {
      "text/plain": [
       "375"
      ]
     },
     "execution_count": 13,
     "metadata": {},
     "output_type": "execute_result"
    }
   ],
   "source": [
    "len(filtered_data)"
   ]
  },
  {
   "cell_type": "code",
   "execution_count": 14,
   "id": "007faabf-a3aa-427d-8875-2977ea437c85",
   "metadata": {},
   "outputs": [],
   "source": [
    "import numpy as np"
   ]
  },
  {
   "cell_type": "code",
   "execution_count": 15,
   "id": "342880fd-a2b6-4063-89be-372f26de757c",
   "metadata": {},
   "outputs": [],
   "source": [
    "from tqdm.auto import tqdm"
   ]
  },
  {
   "cell_type": "code",
   "execution_count": 16,
   "id": "b526fbc3-619a-4c01-b791-b65e1d8e92bb",
   "metadata": {},
   "outputs": [
    {
     "data": {
      "application/vnd.jupyter.widget-view+json": {
       "model_id": "e8d0caa7e08240fca3ecbbbac81b0b0a",
       "version_major": 2,
       "version_minor": 0
      },
      "text/plain": [
       "  0%|          | 0/375 [00:00<?, ?it/s]"
      ]
     },
     "metadata": {},
     "output_type": "display_data"
    },
    {
     "data": {
      "text/plain": [
       "(375, 768)"
      ]
     },
     "execution_count": 16,
     "metadata": {},
     "output_type": "execute_result"
    }
   ],
   "source": [
    "embeddings = []\n",
    "for doc in tqdm(filtered_data):\n",
    "    question = doc['question']\n",
    "    text = doc['text']\n",
    "    qa_text = f'{question} {text}'\n",
    "\n",
    "    qa_text_vector = model.encode(qa_text)\n",
    "    embeddings.append(qa_text_vector)\n",
    "    \n",
    "X = np.array(embeddings)\n",
    "X.shape\n",
    "    "
   ]
  },
  {
   "cell_type": "code",
   "execution_count": 17,
   "id": "2a12fe58-7e10-4662-abb0-7622bc72bc2f",
   "metadata": {},
   "outputs": [],
   "source": [
    "scores = X.dot(em)"
   ]
  },
  {
   "cell_type": "code",
   "execution_count": 19,
   "id": "51f853b4-2287-4553-8ebe-6d81ad02f677",
   "metadata": {},
   "outputs": [
    {
     "data": {
      "text/plain": [
       "array([ 2.89217263e-01,  4.35050726e-01,  2.20572561e-01,  1.28085926e-01,\n",
       "        3.28754455e-01,  4.58999664e-01,  4.48930591e-01,  2.70170599e-01,\n",
       "        2.13975310e-01,  3.39745760e-01,  1.63339168e-01,  3.15918088e-01,\n",
       "        1.53621323e-02,  4.14240420e-01,  6.50657296e-01,  4.12786484e-01,\n",
       "        2.02390462e-01,  4.71707582e-01,  3.74821007e-01,  3.53319108e-01,\n",
       "        4.50558245e-01,  1.85430944e-01,  3.45526993e-01,  8.22948217e-02,\n",
       "       -2.19077598e-02, -4.64250743e-02,  8.60690773e-02,  9.87197682e-02,\n",
       "       -2.14188285e-02,  1.28751006e-02,  2.54870541e-02,  3.66866291e-02,\n",
       "        4.56338078e-02, -2.05279887e-02,  1.82662532e-02,  3.39789167e-02,\n",
       "        1.66510604e-03,  1.03209512e-02,  3.40170749e-02, -2.65231431e-02,\n",
       "       -4.11909968e-02, -4.97983992e-02, -6.20346665e-02, -7.63561390e-03,\n",
       "        4.61616889e-02,  6.95944112e-03,  4.77613509e-02, -9.97766852e-04,\n",
       "       -5.60126789e-02, -5.96206151e-02,  2.05209196e-01, -1.16968602e-01,\n",
       "       -2.34160442e-02, -1.52456751e-02, -6.83515333e-03, -8.61715078e-02,\n",
       "        2.02636905e-02, -2.51591802e-02,  4.21313569e-04, -3.79212126e-02,\n",
       "       -3.21442187e-02,  2.48612404e-01,  2.12661266e-01,  2.87320912e-02,\n",
       "        5.64009324e-03,  2.83871107e-02,  1.02311984e-01,  1.08430505e-01,\n",
       "        4.45670784e-02,  5.62139153e-02, -1.25657022e-01,  6.16888516e-03,\n",
       "        7.16239028e-03, -5.59204817e-02, -4.92570847e-02, -6.11873008e-02,\n",
       "        2.45293360e-02,  1.35819921e-02, -4.08511348e-02, -1.22760013e-02,\n",
       "        7.87671432e-02, -4.09776270e-02,  2.84435414e-03,  3.54050398e-02,\n",
       "        7.06101395e-03, -7.25120008e-02,  8.09859335e-02,  2.13899747e-01,\n",
       "        5.30421622e-02,  5.03777303e-02, -3.79603878e-02, -2.42293589e-02,\n",
       "       -1.34442784e-02,  7.92892426e-02, -4.85001504e-03, -4.29111272e-02,\n",
       "       -3.20610777e-02,  6.69904500e-02, -8.40574503e-03, -1.32086679e-01,\n",
       "       -1.15126744e-03,  4.14728746e-02, -1.31331682e-01, -3.80731598e-02,\n",
       "        6.47669658e-03,  8.36595669e-02,  2.45577283e-02, -6.55222088e-02,\n",
       "       -6.91720098e-02,  5.12287356e-02,  4.83919308e-03,  5.39997071e-02,\n",
       "       -2.80694813e-02, -7.57023320e-02, -1.05883174e-01,  2.03202926e-02,\n",
       "        1.69166885e-02, -2.74919197e-02,  7.05349073e-03, -6.26004562e-02,\n",
       "       -1.31930158e-01,  5.10980301e-02,  1.47758424e-01, -3.40155177e-02,\n",
       "       -3.57092805e-02,  1.55357812e-02, -1.18725169e-02,  7.73690343e-02,\n",
       "        4.35771830e-02, -6.61863387e-02,  2.52170742e-01,  4.70675789e-02,\n",
       "       -7.70067349e-02,  3.79015319e-02,  1.35742918e-01, -7.73299113e-03,\n",
       "       -4.33597751e-02,  7.42026642e-02,  1.12941302e-02, -4.40411195e-02,\n",
       "        3.28043491e-01,  3.83172673e-03, -4.73492593e-03,  7.93434680e-04,\n",
       "       -6.67457879e-02,  1.09346984e-02,  6.56736409e-03, -2.20774859e-03,\n",
       "       -2.48781964e-03,  9.11681913e-03, -1.64973717e-02,  6.57348335e-02,\n",
       "        1.86012536e-01,  1.81024328e-01,  1.19437790e-02,  9.31539610e-02,\n",
       "        8.77034366e-02,  4.60377932e-02, -3.29313613e-02,  8.97290111e-02,\n",
       "        4.92408499e-02, -1.51443370e-02,  1.82684168e-01, -9.11686942e-03,\n",
       "        3.82711589e-02, -2.85148025e-02, -2.32421439e-02, -1.17940299e-01,\n",
       "        8.04636329e-02, -3.96181978e-02, -2.93325000e-02, -2.86628045e-02,\n",
       "        5.59822991e-02,  2.05439404e-02,  4.35311198e-02,  8.72714818e-03,\n",
       "        9.05860588e-02,  4.16058786e-02, -1.07162185e-01, -1.74158234e-02,\n",
       "        3.76871414e-02,  5.74276876e-03,  7.82680511e-02, -1.67808235e-02,\n",
       "       -2.49322653e-02,  1.17247760e-01,  1.92652643e-02,  2.24364549e-02,\n",
       "        6.70092329e-02,  1.04418322e-01,  9.30422395e-02,  1.11063994e-01,\n",
       "       -1.55649493e-02, -8.05713236e-04,  1.06892414e-01, -5.77541143e-02,\n",
       "        9.22655687e-02,  8.57100189e-02, -5.62388683e-04,  6.70872852e-02,\n",
       "       -8.66511464e-03,  1.68558955e-02,  6.78131580e-02,  3.23789530e-02,\n",
       "        1.53096408e-01,  3.46212648e-03,  9.72392708e-02,  7.46936211e-03,\n",
       "        5.92091754e-02, -4.15473524e-03,  8.42873007e-02, -2.21289136e-02,\n",
       "       -2.13755090e-02, -3.08731589e-02,  1.13827147e-01, -5.18075898e-02,\n",
       "       -3.82553935e-02,  1.21785142e-01,  2.12656818e-02,  1.00383937e-01,\n",
       "        1.02448642e-01, -8.57205689e-02,  9.46157947e-02, -5.88218216e-03,\n",
       "       -8.54180753e-02, -5.48273176e-02, -2.86803544e-02,  6.51872009e-02,\n",
       "       -8.90592113e-02,  2.25946158e-02,  2.30063684e-03,  1.26689568e-01,\n",
       "        9.92652178e-02,  1.21937200e-01,  8.56228080e-03,  5.68378121e-02,\n",
       "        1.07429951e-01,  3.81353945e-02,  3.70678753e-02,  5.04433773e-02,\n",
       "        5.89763038e-02,  1.46542443e-02,  5.39241508e-02, -1.02877337e-03,\n",
       "        4.38618138e-02, -5.49201667e-02,  9.17539969e-02,  8.76395553e-02,\n",
       "        1.08017325e-02,  6.35476485e-02,  7.61533678e-02, -1.20977782e-01,\n",
       "        3.12572382e-02,  1.07315421e-01,  2.11034007e-02, -1.16809994e-01,\n",
       "       -7.75170624e-02, -3.13896909e-02,  9.74870473e-03, -2.51133107e-02,\n",
       "        7.61508755e-03, -5.23268394e-02,  8.75003859e-02,  1.02829516e-01,\n",
       "        5.21384589e-02,  1.17952842e-02, -6.86213821e-02, -3.29189152e-02,\n",
       "        1.25220809e-02,  4.99134064e-02,  1.76850818e-02,  5.28945029e-02,\n",
       "        3.63487080e-02, -3.74851450e-02,  4.61158343e-03, -1.40474707e-01,\n",
       "       -8.45709145e-02, -1.63267963e-02, -2.33845972e-03,  9.91798490e-02,\n",
       "        8.12100172e-02, -1.15462169e-02, -1.46434102e-02,  5.92482202e-02,\n",
       "       -2.45577227e-02,  2.28130259e-02,  1.75959989e-02,  4.81145680e-02,\n",
       "        1.09545803e-02, -2.97679640e-02, -4.04076744e-03,  8.05019587e-02,\n",
       "        5.23830578e-02,  6.93680868e-02,  4.00670059e-03, -1.52226947e-02,\n",
       "       -5.35538932e-03,  2.97432356e-02,  2.86108106e-02,  5.79058938e-03,\n",
       "        8.26219991e-02, -6.90139038e-03,  8.27184319e-02,  3.15404758e-02,\n",
       "        7.90223330e-02,  1.35424241e-01, -6.60498068e-03,  3.40357237e-02,\n",
       "       -6.04556128e-02,  2.99435109e-04,  4.17965464e-02,  2.76403073e-02,\n",
       "        2.20877137e-02,  8.75887126e-02,  3.75620797e-02,  1.02920746e-02,\n",
       "        2.79956069e-02,  1.11261234e-01, -4.82459925e-02,  2.56313700e-02,\n",
       "        1.01505127e-02,  1.10233277e-01,  8.72281641e-02,  1.99888915e-01,\n",
       "        1.58133179e-01,  5.12097310e-03, -5.28743267e-02,  1.38270974e-01,\n",
       "        3.39298844e-02,  3.29888582e-01,  1.50600195e-01,  9.16852653e-02,\n",
       "        2.34558918e-02,  2.25460321e-01,  1.53260142e-01, -7.96020962e-03,\n",
       "        1.47858635e-01,  5.57383411e-02,  4.80688773e-02,  7.96168670e-03,\n",
       "        1.04084693e-01, -1.46763816e-01,  1.24577671e-01,  5.08538447e-03,\n",
       "        9.75179970e-02, -3.69484425e-02, -1.76295117e-02,  6.71323538e-02,\n",
       "       -4.29844782e-02,  8.52768496e-03,  3.95143740e-02,  4.70580570e-02,\n",
       "       -2.83394046e-02, -2.89895721e-02, -4.38462347e-02, -1.16549619e-02,\n",
       "        4.59900014e-02,  1.22447908e-02,  9.40718427e-02,  6.48717359e-02,\n",
       "       -5.06505966e-02,  1.39609903e-01,  1.91962361e-01,  1.55291200e-01,\n",
       "       -1.94996037e-02,  1.88638922e-02,  6.77662715e-03,  3.05332206e-02,\n",
       "        2.56960243e-02,  7.66609609e-02, -7.14630112e-02,  4.56990242e-01,\n",
       "        1.33357689e-01,  6.59829751e-02,  2.52122730e-01], dtype=float32)"
      ]
     },
     "execution_count": 19,
     "metadata": {},
     "output_type": "execute_result"
    }
   ],
   "source": [
    "scores"
   ]
  },
  {
   "cell_type": "code",
   "execution_count": 20,
   "id": "3936369e-32fa-458a-858a-eabb3fe96e79",
   "metadata": {},
   "outputs": [
    {
     "data": {
      "text/plain": [
       "0.6506573"
      ]
     },
     "execution_count": 20,
     "metadata": {},
     "output_type": "execute_result"
    }
   ],
   "source": [
    "np.max(scores)"
   ]
  },
  {
   "cell_type": "code",
   "execution_count": 21,
   "id": "92b6e5d4-a6b2-4bc8-ba02-07be080bb79b",
   "metadata": {},
   "outputs": [
    {
     "data": {
      "text/plain": [
       "[{'text': 'Yes, you can. You won’t be able to submit some of the homeworks, but you can still take part in the course.\\nIn order to get a certificate, you need to submit 2 out of 3 course projects and review 3 peers’ Projects by the deadline. It means that if you join the course at the end of November and manage to work on two projects, you will still be eligible for a certificate.',\n",
       "  'section': 'General course-related questions',\n",
       "  'question': 'The course has already started. Can I still join it?',\n",
       "  'course': 'machine-learning-zoomcamp',\n",
       "  'id': 'ee58a693'},\n",
       " {'text': 'Welcome to the course! Go to the course page (http://mlzoomcamp.com/), scroll down and start going through the course materials. Then read everything in the cohort folder for your cohort’s year.\\nClick on the links and start watching the videos. Also watch office hours from previous cohorts. Go to DTC youtube channel and click on Playlists and search for {course yyyy}. ML Zoomcamp was first launched in 2021.\\nOr you can just use this link: http://mlzoomcamp.com/#syllabus',\n",
       "  'section': 'General course-related questions',\n",
       "  'question': 'I just joined. What should I do next? How can I access course materials?',\n",
       "  'course': 'machine-learning-zoomcamp',\n",
       "  'id': '0a278fb2'},\n",
       " {'text': \"The process is automated now, so you should receive the email eventually. If you haven’t, check your promotions tab in Gmail as well as spam.\\nIf you unsubscribed from our newsletter, you won't get course related updates too.\\nBut don't worry, it’s not a problem. To make sure you don’t miss anything, join the #course-ml-zoomcamp channel in Slack and our telegram channel with announcements. This is enough to follow the course.\",\n",
       "  'section': 'General course-related questions',\n",
       "  'question': \"I filled the form, but haven't received a confirmation email. Is it normal?\",\n",
       "  'course': 'machine-learning-zoomcamp',\n",
       "  'id': '6ba259b1'},\n",
       " {'text': 'Technically, yes. Advisable? Not really. Reasons:\\nSome homework(s) asks for specific python library versions.\\nAnswers may not match in MCQ options if using different languages other than Python 3.10 (the recommended version for 2023 cohort)\\nAnd as for midterms/capstones, your peer-reviewers may not know these other languages. Do you want to be penalized for others not knowing these other languages?\\nYou can create a separate repo using course’s lessons but written in other languages for your own learnings, but not advisable for submissions.\\ntx[source]',\n",
       "  'section': 'Miscellaneous',\n",
       "  'question': 'Can I do the course in other languages, like R or Scala?',\n",
       "  'course': 'machine-learning-zoomcamp',\n",
       "  'id': '9f261648'},\n",
       " {'text': 'We won’t re-record the course videos. The focus of the course and the skills we want to teach remained the same, and the videos are still up-to-date.\\nIf you haven’t taken part in the previous iteration, you can start watching the videos. It’ll be useful for you and you will learn new things. However, we recommend using Python 3.10 now instead of Python 3.8.',\n",
       "  'section': 'General course-related questions',\n",
       "  'question': 'The course videos are from the previous iteration. Will you release new ones or we’ll use the videos from 2021?',\n",
       "  'course': 'machine-learning-zoomcamp',\n",
       "  'id': 'e7ba6b8a'}]"
      ]
     },
     "execution_count": 21,
     "metadata": {},
     "output_type": "execute_result"
    }
   ],
   "source": [
    "class VectorSearchEngine():\n",
    "    def __init__(self, documents, embeddings):\n",
    "        self.documents = documents\n",
    "        self.embeddings = embeddings\n",
    "\n",
    "    def search(self, v_query, num_results=10):\n",
    "        scores = self.embeddings.dot(v_query)\n",
    "        idx = np.argsort(-scores)[:num_results]\n",
    "        return [self.documents[i] for i in idx]\n",
    "\n",
    "search_engine = VectorSearchEngine(documents=filtered_data, embeddings=X)\n",
    "search_engine.search(em, num_results=5)"
   ]
  },
  {
   "cell_type": "code",
   "execution_count": 22,
   "id": "6d41cc67-a574-4b45-8f58-9e9b30bb8b4e",
   "metadata": {},
   "outputs": [],
   "source": [
    "import pandas as pd\n",
    "\n",
    "base_url = 'https://github.com/DataTalksClub/llm-zoomcamp/blob/main'\n",
    "relative_url = '03-vector-search/eval/ground-truth-data.csv'\n",
    "ground_truth_url = f'{base_url}/{relative_url}?raw=1'\n",
    "\n",
    "df_ground_truth = pd.read_csv(ground_truth_url)\n",
    "df_ground_truth = df_ground_truth[df_ground_truth.course == 'machine-learning-zoomcamp']\n",
    "ground_truth = df_ground_truth.to_dict(orient='records')"
   ]
  },
  {
   "cell_type": "code",
   "execution_count": 24,
   "id": "f663e1d0-ed8e-433a-97f0-6ba9f0b04965",
   "metadata": {},
   "outputs": [
    {
     "data": {
      "text/plain": [
       "{'question': 'Where can I sign up for the course?',\n",
       " 'course': 'machine-learning-zoomcamp',\n",
       " 'document': '0227b872'}"
      ]
     },
     "execution_count": 24,
     "metadata": {},
     "output_type": "execute_result"
    }
   ],
   "source": [
    "ground_truth[0]"
   ]
  },
  {
   "cell_type": "code",
   "execution_count": 25,
   "id": "0da92503-6412-4ec3-97ce-faf3e1b54611",
   "metadata": {},
   "outputs": [
    {
     "data": {
      "application/vnd.jupyter.widget-view+json": {
       "model_id": "49caa2f9cd364eeda0eedba9c766f257",
       "version_major": 2,
       "version_minor": 0
      },
      "text/plain": [
       "  0%|          | 0/1830 [00:00<?, ?it/s]"
      ]
     },
     "metadata": {},
     "output_type": "display_data"
    }
   ],
   "source": [
    "relevance_total = []\n",
    "\n",
    "for q in tqdm(ground_truth):\n",
    "    doc_id = q['document']\n",
    "    question_emb = model.encode(q['question'])\n",
    "    results = search_engine.search(question_emb, num_results=5)\n",
    "    relevance = [d['id'] == doc_id for d in results]\n",
    "    relevance_total.append(relevance)"
   ]
  },
  {
   "cell_type": "code",
   "execution_count": 26,
   "id": "2f91d4f6-8e34-42d6-95ad-04c690800124",
   "metadata": {},
   "outputs": [],
   "source": [
    "def hit_rate(relevance_total):\n",
    "    cnt = 0\n",
    "\n",
    "    for line in relevance_total:\n",
    "        if True in line:\n",
    "            cnt = cnt + 1\n",
    "\n",
    "    return cnt / len(relevance_total)"
   ]
  },
  {
   "cell_type": "code",
   "execution_count": 27,
   "id": "fa6cdb49-a843-41fe-80e3-a3316cf77fd5",
   "metadata": {},
   "outputs": [
    {
     "data": {
      "text/plain": [
       "0.9398907103825137"
      ]
     },
     "execution_count": 27,
     "metadata": {},
     "output_type": "execute_result"
    }
   ],
   "source": [
    "hit_rate(relevance_total)"
   ]
  },
  {
   "cell_type": "markdown",
   "id": "a3beeb19-7193-410c-a4c7-aac3dd13312b",
   "metadata": {},
   "source": [
    "======= Elastic search"
   ]
  },
  {
   "cell_type": "code",
   "execution_count": 28,
   "id": "e45e46da-a2fe-400d-817a-c83efec7288c",
   "metadata": {},
   "outputs": [],
   "source": [
    "from elasticsearch import Elasticsearch\n",
    "\n",
    "es_client = Elasticsearch('http://localhost:9200') "
   ]
  },
  {
   "cell_type": "code",
   "execution_count": 31,
   "id": "59d55d9c-66e4-430a-90e0-b6db0c4fe23e",
   "metadata": {},
   "outputs": [
    {
     "data": {
      "text/plain": [
       "ObjectApiResponse({'acknowledged': True, 'shards_acknowledged': True, 'index': 'course-questions'})"
      ]
     },
     "execution_count": 31,
     "metadata": {},
     "output_type": "execute_result"
    }
   ],
   "source": [
    "index_settings = {\n",
    "    \"settings\": {\n",
    "        \"number_of_shards\": 1,\n",
    "        \"number_of_replicas\": 0\n",
    "    },\n",
    "    \"mappings\": {\n",
    "        \"properties\": {\n",
    "            \"text\": {\"type\": \"text\"},\n",
    "            \"section\": {\"type\": \"text\"},\n",
    "            \"question\": {\"type\": \"text\"},\n",
    "            \"course\": {\"type\": \"keyword\"},\n",
    "            \"id\": {\"type\": \"keyword\"},\n",
    "            \"question_text_vector\": {\n",
    "                \"type\": \"dense_vector\",\n",
    "                \"dims\": 768,\n",
    "                \"index\": True,\n",
    "                \"similarity\": \"cosine\"\n",
    "            },\n",
    "        }\n",
    "    }\n",
    "}\n",
    "\n",
    "index_name = \"course-questions\"\n",
    "\n",
    "es_client.indices.delete(index=index_name, ignore_unavailable=True)\n",
    "es_client.indices.create(index=index_name, body=index_settings)"
   ]
  },
  {
   "cell_type": "code",
   "execution_count": 32,
   "id": "402fa3c1-50b3-4aae-a191-40738d3966f2",
   "metadata": {},
   "outputs": [],
   "source": [
    "from tqdm.auto import tqdm"
   ]
  },
  {
   "cell_type": "code",
   "execution_count": 33,
   "id": "5d1e62d0-b670-4acd-8bba-b210d7dac8ed",
   "metadata": {},
   "outputs": [
    {
     "data": {
      "application/vnd.jupyter.widget-view+json": {
       "model_id": "1eea6e886e6143b5abfa3ae8361fc9bd",
       "version_major": 2,
       "version_minor": 0
      },
      "text/plain": [
       "  0%|          | 0/375 [00:00<?, ?it/s]"
      ]
     },
     "metadata": {},
     "output_type": "display_data"
    }
   ],
   "source": [
    "for i, doc in enumerate(tqdm(filtered_data)):\n",
    "    question = doc['question']\n",
    "    text = doc['text']\n",
    "    \n",
    "    # Adding the question_text_vector to the document\n",
    "    filtered_data[i]['question_text_vector'] = X[i]"
   ]
  },
  {
   "cell_type": "code",
   "execution_count": 34,
   "id": "214bd0c4-cf31-4b81-a55a-a0813cc9a79e",
   "metadata": {},
   "outputs": [
    {
     "data": {
      "application/vnd.jupyter.widget-view+json": {
       "model_id": "85c513757a1343bb80ee4ce68d229192",
       "version_major": 2,
       "version_minor": 0
      },
      "text/plain": [
       "  0%|          | 0/375 [00:00<?, ?it/s]"
      ]
     },
     "metadata": {},
     "output_type": "display_data"
    }
   ],
   "source": [
    "for doc in tqdm(filtered_data):\n",
    "    es_client.index(index=index_name, document=doc)"
   ]
  },
  {
   "cell_type": "code",
   "execution_count": 48,
   "id": "09c37c55-755f-4ff2-be49-001b279ccd15",
   "metadata": {},
   "outputs": [],
   "source": [
    "def elastic_search_knn(vector):\n",
    "    knn = {\n",
    "        \"field\": 'question_text_vector',\n",
    "        \"query_vector\": vector,\n",
    "        \"k\": 5,\n",
    "        \"num_candidates\": 10000\n",
    "    }\n",
    "\n",
    "    search_query = {\n",
    "        \"knn\": knn,\n",
    "        \"_source\": [\"text\", \"section\", \"question\", \"course\", \"id\"]\n",
    "    }\n",
    "\n",
    "    es_results = es_client.search(\n",
    "        index=index_name,\n",
    "        body=search_query\n",
    "    )\n",
    "\n",
    "    # print(es_results['hits']['max_score'])\n",
    "    \n",
    "    result_docs = []\n",
    "    \n",
    "    for hit in es_results['hits']['hits']:\n",
    "        result_docs.append(hit['_source'])\n",
    "\n",
    "    return result_docs"
   ]
  },
  {
   "cell_type": "code",
   "execution_count": 46,
   "id": "4b1b944f-e5fa-43d6-8459-8f29650eff2d",
   "metadata": {},
   "outputs": [
    {
     "name": "stdout",
     "output_type": "stream",
     "text": [
      "0.82532895\n"
     ]
    },
    {
     "data": {
      "text/plain": [
       "[{'question': 'The course has already started. Can I still join it?',\n",
       "  'course': 'machine-learning-zoomcamp',\n",
       "  'section': 'General course-related questions',\n",
       "  'text': 'Yes, you can. You won’t be able to submit some of the homeworks, but you can still take part in the course.\\nIn order to get a certificate, you need to submit 2 out of 3 course projects and review 3 peers’ Projects by the deadline. It means that if you join the course at the end of November and manage to work on two projects, you will still be eligible for a certificate.',\n",
       "  'id': 'ee58a693'},\n",
       " {'question': 'I just joined. What should I do next? How can I access course materials?',\n",
       "  'course': 'machine-learning-zoomcamp',\n",
       "  'section': 'General course-related questions',\n",
       "  'text': 'Welcome to the course! Go to the course page (http://mlzoomcamp.com/), scroll down and start going through the course materials. Then read everything in the cohort folder for your cohort’s year.\\nClick on the links and start watching the videos. Also watch office hours from previous cohorts. Go to DTC youtube channel and click on Playlists and search for {course yyyy}. ML Zoomcamp was first launched in 2021.\\nOr you can just use this link: http://mlzoomcamp.com/#syllabus',\n",
       "  'id': '0a278fb2'},\n",
       " {'question': \"I filled the form, but haven't received a confirmation email. Is it normal?\",\n",
       "  'course': 'machine-learning-zoomcamp',\n",
       "  'section': 'General course-related questions',\n",
       "  'text': \"The process is automated now, so you should receive the email eventually. If you haven’t, check your promotions tab in Gmail as well as spam.\\nIf you unsubscribed from our newsletter, you won't get course related updates too.\\nBut don't worry, it’s not a problem. To make sure you don’t miss anything, join the #course-ml-zoomcamp channel in Slack and our telegram channel with announcements. This is enough to follow the course.\",\n",
       "  'id': '6ba259b1'},\n",
       " {'question': 'Can I do the course in other languages, like R or Scala?',\n",
       "  'course': 'machine-learning-zoomcamp',\n",
       "  'section': 'Miscellaneous',\n",
       "  'text': 'Technically, yes. Advisable? Not really. Reasons:\\nSome homework(s) asks for specific python library versions.\\nAnswers may not match in MCQ options if using different languages other than Python 3.10 (the recommended version for 2023 cohort)\\nAnd as for midterms/capstones, your peer-reviewers may not know these other languages. Do you want to be penalized for others not knowing these other languages?\\nYou can create a separate repo using course’s lessons but written in other languages for your own learnings, but not advisable for submissions.\\ntx[source]',\n",
       "  'id': '9f261648'},\n",
       " {'question': 'The course videos are from the previous iteration. Will you release new ones or we’ll use the videos from 2021?',\n",
       "  'course': 'machine-learning-zoomcamp',\n",
       "  'section': 'General course-related questions',\n",
       "  'text': 'We won’t re-record the course videos. The focus of the course and the skills we want to teach remained the same, and the videos are still up-to-date.\\nIf you haven’t taken part in the previous iteration, you can start watching the videos. It’ll be useful for you and you will learn new things. However, we recommend using Python 3.10 now instead of Python 3.8.',\n",
       "  'id': 'e7ba6b8a'}]"
      ]
     },
     "execution_count": 46,
     "metadata": {},
     "output_type": "execute_result"
    }
   ],
   "source": [
    "elastic_search_knn(em)"
   ]
  },
  {
   "cell_type": "code",
   "execution_count": 49,
   "id": "75822848-4fd7-4e27-8e30-fcb65c428193",
   "metadata": {},
   "outputs": [
    {
     "data": {
      "application/vnd.jupyter.widget-view+json": {
       "model_id": "67156c93a3fe447cb64cb26ae831379d",
       "version_major": 2,
       "version_minor": 0
      },
      "text/plain": [
       "  0%|          | 0/1830 [00:00<?, ?it/s]"
      ]
     },
     "metadata": {},
     "output_type": "display_data"
    }
   ],
   "source": [
    "relevance_total_es = []\n",
    "\n",
    "for q in tqdm(ground_truth):\n",
    "    doc_id = q['document']\n",
    "    question_emb = model.encode(q['question'])\n",
    "    results = elastic_search_knn(question_emb)\n",
    "    relevance = [d['id'] == doc_id for d in results]\n",
    "    relevance_total_es.append(relevance)"
   ]
  },
  {
   "cell_type": "code",
   "execution_count": 50,
   "id": "2c4d3099-0e8e-4f20-8da0-747d9123988e",
   "metadata": {},
   "outputs": [
    {
     "data": {
      "text/plain": [
       "0.9398907103825137"
      ]
     },
     "execution_count": 50,
     "metadata": {},
     "output_type": "execute_result"
    }
   ],
   "source": [
    "hit_rate(relevance_total_es)"
   ]
  },
  {
   "cell_type": "code",
   "execution_count": null,
   "id": "d8132e9c-6b4e-435d-8c12-f7f860b3ecbb",
   "metadata": {},
   "outputs": [],
   "source": []
  }
 ],
 "metadata": {
  "kernelspec": {
   "display_name": "Python 3 (ipykernel)",
   "language": "python",
   "name": "python3"
  },
  "language_info": {
   "codemirror_mode": {
    "name": "ipython",
    "version": 3
   },
   "file_extension": ".py",
   "mimetype": "text/x-python",
   "name": "python",
   "nbconvert_exporter": "python",
   "pygments_lexer": "ipython3",
   "version": "3.10.13"
  }
 },
 "nbformat": 4,
 "nbformat_minor": 5
}
